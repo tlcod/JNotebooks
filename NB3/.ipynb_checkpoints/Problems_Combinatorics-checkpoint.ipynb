{
 "cells": [
  {
   "cell_type": "markdown",
   "metadata": {},
   "source": [
    "#### 1.1 Six girls and four boys are to be assigned to ten seats in a row, with the stipulations that a girl sits in the third seat and a boy sits in the eighth seat. How many arrangements are possible?"
   ]
  },
  {
   "attachments": {
    "image.png": {
     "image/png": "[encoded data removed]"
    }
   },
   "cell_type": "markdown",
   "metadata": {},
   "source": [
    "![image.png](attachment:image.png)"
   ]
  },
  {
   "cell_type": "markdown",
   "metadata": {},
   "source": [
    "So due to the stipulation we are left with 8 seats for 5 girls and 3 boys.<br>\n",
    "But the number of ways to chose a girl for the 3rd seat = ${6}$<br>\n",
    "And the number of ways to chose a boy for the 8th seat = ${4}$<br>\n",
    "To arrange 5 girls in 8 seats **\"Ordered set, without repetition (as its girls)\"** = ${_8P_5}$<br>\n",
    "Then arrange 3 boys from the remaining 3 seats **\"Ordered set, without repetition (as its boys)\"** = ${_3P_3}$<br>\n",
    "${6.4.{_8P_5}.{_3P_3} = 6.4.\\frac{8!}{(8 - 5)!}\\frac{3!}{(3 - 3)!} = 6.4.{8!}}$ "
   ]
  },
  {
   "cell_type": "markdown",
   "metadata": {},
   "source": [
    "#### 1.2 One person rolls two six-sided dice, and another person flips six two-sided coins. Which setup has the larger number of possible outcomes, assuming that the order matters?"
   ]
  },
  {
   "attachments": {
    "image.png": {
     "image/png": "[encoded data removed]"
    }
   },
   "cell_type": "markdown",
   "metadata": {},
   "source": [
    "![image.png](attachment:image.png)"
   ]
  },
  {
   "cell_type": "markdown",
   "metadata": {},
   "source": [
    "Number of possible outcomes of the first dice = ${6}$<br>\n",
    "For each of that possible outcome the number of outcomes for the second dice = ${6}$<br>\n",
    "So total number of possible outcomes for dice event = ${6.6 = 36}$<br>\n",
    "So this was a case of **\"Ordered set, with repetition allowed (as its a dice)\"** = ${N^n = 6^2 = 36}$<br>\n",
    "Same goes for the coins as well = ${2^6 = 64}$<br>\n",
    "So the coin events will have more number of possible outcomes."
   ]
  },
  {
   "cell_type": "markdown",
   "metadata": {},
   "source": [
    "#### 1.3 How many different orderings are there of the six letters: A, A, A, B, B, C?"
   ]
  },
  {
   "cell_type": "markdown",
   "metadata": {},
   "source": [
    "Number of places to be filled: ${6}$<br>\n",
    "Number of ways three identical As can be put in ${6}$ places **\"Unordered set, without repetition\"**: ${6 \\choose 3}$<br>\n",
    "Number of ways two identical Bs can be put in ${6 - 3 = 3}$ places **\"Unordered set, without repetition\"**: ${3 \\choose 2}$<br>\n",
    "Number of ways one identical C can be put in ${6 - 3 - 2 = 1}$ places **\"Unordered set, without repetition\"**: ${1 \\choose 1}$<br>\n",
    "${{6 \\choose 3}{3 \\choose 2}{1 \\choose 1} = 20.3.1 = 60}$"
   ]
  },
  {
   "cell_type": "markdown",
   "metadata": {},
   "source": [
    "#### 1.4 From N people, how many ways are there to choose a committee of n people, with one person chosen as the president?"
   ]
  },
  {
   "cell_type": "markdown",
   "metadata": {},
   "source": [
    "Definitely the order in which the committee is chosen doesn't matter.<br>\n",
    "And since its people so the events are without repition.<br>\n",
    "So its a case of **\"Unordered set, without repetition\"**.<br>\n",
    "Number of ways one person can be chosen as the president from ${N}$ poeple = ${{N \\choose 1} = N}$<br>\n",
    "Number of ways ${(n - 1)}$ persons can be chosen as the president from ${(N - 1)}$ poeple = ${{N - 1} \\choose {n - 1}}$<br>\n",
    "${N.{{N - 1} \\choose {n - 1}}}$"
   ]
  },
  {
   "cell_type": "markdown",
   "metadata": {},
   "source": [
    "#### 1.5 A group of ten people are divided into three committees. Three people are on committee A, two are on committee B, and five are on committee C. How many different ways are there to divide up the people?"
   ]
  },
  {
   "cell_type": "markdown",
   "metadata": {},
   "source": [
    "Definitely the order in which the committees are chosen doesn't matter.<br>\n",
    "And since its people so the events are without repition.<br>\n",
    "So its a case of **\"Unordered set, without repetition\"**.<br>\n",
    "Number of ways ${3}$ people can be chosen for committee A from ${10}$ people = ${10 \\choose 3}$<br>\n",
    "Number of ways ${2}$ people can be chosen for committee B from ${10 - 3 = 7}$ people = ${7 \\choose 2}$<br>\n",
    "Number of ways ${5}$ people can be chosen for committee C from ${10 - 3 - 2 = 5}$ people = ${5 \\choose 5}$<br>\n",
    "${{10 \\choose 3}{7 \\choose 2}{5 \\choose 5} = 120.21.1 = 2520}$"
   ]
  },
  {
   "cell_type": "markdown",
   "metadata": {},
   "source": [
    "#### 1.6 Two standard 6-sided dice are rolled. Find the total number of unordered outcomes?"
   ]
  },
  {
   "cell_type": "markdown",
   "metadata": {},
   "source": [
    "It is mentioned Unordered (so [1,6] is no different than [6,1] and since it is a dice so repition allowed, so **\"Unordered set, with repetition**: <br>\n",
    "The trick here is it doesn't matter how many dice are there, ultimately the unique number of possibilities are just ${6}$, so ${N = 6}$ and they are going into ${2}$ empty slots (because two dice are rolled), hence ${n = 2}$.<br> \n",
    "${_NU_n = {n+(N - 1) \\choose N - 1} = _6U_2 = {2 + (6 - 1) \\choose (6 - 1)} = {7 \\choose 5} = 21}$"
   ]
  },
  {
   "cell_type": "code",
   "execution_count": null,
   "metadata": {},
   "outputs": [],
   "source": []
  }
 ],
 "metadata": {
  "kernelspec": {
   "display_name": "Python 3",
   "language": "python",
   "name": "python3"
  },
  "language_info": {
   "codemirror_mode": {
    "name": "ipython",
    "version": 3
   },
   "file_extension": ".py",
   "mimetype": "text/x-python",
   "name": "python",
   "nbconvert_exporter": "python",
   "pygments_lexer": "ipython3",
   "version": "3.6.8"
  }
 },
 "nbformat": 4,
 "nbformat_minor": 2
}
